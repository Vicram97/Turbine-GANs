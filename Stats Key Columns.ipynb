{
 "cells": [
  {
   "cell_type": "markdown",
   "id": "8c5f3e72",
   "metadata": {},
   "source": [
    "# Import Libraries"
   ]
  },
  {
   "cell_type": "code",
   "execution_count": 1,
   "id": "fde1f419",
   "metadata": {},
   "outputs": [],
   "source": [
    "import pandas as pd\n",
    "import os"
   ]
  },
  {
   "cell_type": "markdown",
   "id": "289b4937",
   "metadata": {},
   "source": [
    "# File's Path"
   ]
  },
  {
   "cell_type": "code",
   "execution_count": 2,
   "id": "225559da",
   "metadata": {},
   "outputs": [],
   "source": [
    "notebook_path = os.getcwd()\n",
    "db_files_path = \"D:\\Documentos\\Turbinas\\Test_22ITIBarge5MWSimulations\""
   ]
  },
  {
   "cell_type": "code",
   "execution_count": 3,
   "id": "da374f2a",
   "metadata": {},
   "outputs": [],
   "source": [
    "#print(notebook_path)\n",
    "#print(db_files_path)"
   ]
  },
  {
   "cell_type": "code",
   "execution_count": 4,
   "id": "2575fe3c",
   "metadata": {},
   "outputs": [],
   "source": [
    "fileJ1 = db_files_path + \"\\Test22Windrandompitchrandom.xlsx\"\n",
    "fileJ2 = db_files_path + \"\\Test22Windrandompitchrandom2.xlsx\"\n",
    "\n",
    "fileN0 = db_files_path + \"\\Test22pulsetrendWindpitch0.xlsx\"\n",
    "fileN20 = db_files_path + \"\\Test22pulsetrendWindpitch20.xlsx\"\n",
    "fileN40 = db_files_path + \"\\Test22pulsetrendWindpitch40.xlsx\"\n",
    "fileN60 = db_files_path + \"\\Test22pulsetrendWindpitch60.xlsx\"\n",
    "fileN80 = db_files_path + \"\\Test22pulsetrendWindpitch80.xlsx\"\n",
    "\n",
    "fileK3 = db_files_path + \"\\Test22Wind3pitchpulsetrend.xlsx\"\n",
    "fileK5 = db_files_path + \"\\Test22Wind5pitchpulsetrend.xlsx\"\n",
    "fileK8 = db_files_path + \"\\Test22Wind8pitchpulsetrend.xlsx\"\n",
    "fileK10 = db_files_path + \"\\Test22Wind10pitchpulsetrend.xlsx\"\n",
    "fileK114 = db_files_path + \"\\Test22Wind11-4pitchpulsetrend.xlsx\"\n",
    "fileK13 = db_files_path + \"\\Test22Wind13pitchpulsetrend.xlsx\"\n",
    "fileK17 = db_files_path + \"\\Test22Wind17pitchpulsetrend.xlsx\"\n",
    "fileK20 = db_files_path + \"\\Test22Wind20pitchpulsetrend.xlsx\"\n",
    "fileK21 = db_files_path + \"\\Test22Wind21pitchpulsetrend.xlsx\""
   ]
  },
  {
   "cell_type": "markdown",
   "id": "3927198c",
   "metadata": {},
   "source": [
    "# Read Key Columns"
   ]
  },
  {
   "cell_type": "code",
   "execution_count": null,
   "id": "bfd2a53d",
   "metadata": {},
   "outputs": [],
   "source": [
    "dfJ1 = pd.read_excel(fileJ1, usecols=[0,1,2,3,4,5,6, 86, 87], names = [\"Time\",\"Wind1VelX\",\"Wind1VelY\",\"Wind1VelZ\",\"BldPitch1\",\"BldPitch2\",\"BldPitch3\", \"GenPwr\", \"GenTq\"])\n",
    "dfJ2 = pd.read_excel(fileJ2, usecols=[0,1,2,3,4,5,6, 86, 87], names = [\"Time\",\"Wind1VelX\",\"Wind1VelY\",\"Wind1VelZ\",\"BldPitch1\",\"BldPitch2\",\"BldPitch3\", \"GenPwr\", \"GenTq\"])\n",
    "\n",
    "dfN0 = pd.read_excel(fileN0, usecols=[0,1,2,3,4,5,6, 86, 87], names = [\"Time\",\"Wind1VelX\",\"Wind1VelY\",\"Wind1VelZ\",\"BldPitch1\",\"BldPitch2\",\"BldPitch3\", \"GenPwr\", \"GenTq\"])\n",
    "dfN20 = pd.read_excel(fileN20, usecols=[0,1,2,3,4,5,6, 86, 87], names = [\"Time\",\"Wind1VelX\",\"Wind1VelY\",\"Wind1VelZ\",\"BldPitch1\",\"BldPitch2\",\"BldPitch3\", \"GenPwr\", \"GenTq\"])\n",
    "dfN40 = pd.read_excel(fileN40, usecols=[0,1,2,3,4,5,6, 86, 87], names = [\"Time\",\"Wind1VelX\",\"Wind1VelY\",\"Wind1VelZ\",\"BldPitch1\",\"BldPitch2\",\"BldPitch3\", \"GenPwr\", \"GenTq\"])\n",
    "dfN60 = pd.read_excel(fileN60, usecols=[0,1,2,3,4,5,6, 86, 87], names = [\"Time\",\"Wind1VelX\",\"Wind1VelY\",\"Wind1VelZ\",\"BldPitch1\",\"BldPitch2\",\"BldPitch3\", \"GenPwr\", \"GenTq\"])\n",
    "dfN80 = pd.read_excel(fileN80, usecols=[0,1,2,3,4,5,6, 86, 87], names = [\"Time\",\"Wind1VelX\",\"Wind1VelY\",\"Wind1VelZ\",\"BldPitch1\",\"BldPitch2\",\"BldPitch3\", \"GenPwr\", \"GenTq\"])\n",
    "\n",
    "dfK3 = pd.read_excel(fileK3, usecols=[0,1,2,3,4,5,6, 86, 87], names = [\"Time\",\"Wind1VelX\",\"Wind1VelY\",\"Wind1VelZ\",\"BldPitch1\",\"BldPitch2\",\"BldPitch3\", \"GenPwr\", \"GenTq\"])\n",
    "dfK5 = pd.read_excel(fileK5, usecols=[0,1,2,3,4,5,6, 86, 87], names = [\"Time\",\"Wind1VelX\",\"Wind1VelY\",\"Wind1VelZ\",\"BldPitch1\",\"BldPitch2\",\"BldPitch3\", \"GenPwr\", \"GenTq\"])\n",
    "dfK8 = pd.read_excel(fileK8, usecols=[0,1,2,3,4,5,6, 86, 87], names = [\"Time\",\"Wind1VelX\",\"Wind1VelY\",\"Wind1VelZ\",\"BldPitch1\",\"BldPitch2\",\"BldPitch3\", \"GenPwr\", \"GenTq\"])\n",
    "dfK10 = pd.read_excel(fileK10, usecols=[0,1,2,3,4,5,6, 86, 87], names = [\"Time\",\"Wind1VelX\",\"Wind1VelY\",\"Wind1VelZ\",\"BldPitch1\",\"BldPitch2\",\"BldPitch3\", \"GenPwr\", \"GenTq\"])\n",
    "dfK114 = pd.read_excel(fileK114, usecols=[0,1,2,3,4,5,6, 86, 87], names = [\"Time\",\"Wind1VelX\",\"Wind1VelY\",\"Wind1VelZ\",\"BldPitch1\",\"BldPitch2\",\"BldPitch3\", \"GenPwr\", \"GenTq\"])\n",
    "dfK13 = pd.read_excel(fileK13, usecols=[0,1,2,3,4,5,6, 86, 87], names = [\"Time\",\"Wind1VelX\",\"Wind1VelY\",\"Wind1VelZ\",\"BldPitch1\",\"BldPitch2\",\"BldPitch3\", \"GenPwr\", \"GenTq\"])\n",
    "dfK17 = pd.read_excel(fileK17, usecols=[0,1,2,3,4,5,6, 86, 87], names = [\"Time\",\"Wind1VelX\",\"Wind1VelY\",\"Wind1VelZ\",\"BldPitch1\",\"BldPitch2\",\"BldPitch3\", \"GenPwr\", \"GenTq\"])\n",
    "dfK20 = pd.read_excel(fileK20, usecols=[0,1,2,3,4,5,6, 86, 87], names = [\"Time\",\"Wind1VelX\",\"Wind1VelY\",\"Wind1VelZ\",\"BldPitch1\",\"BldPitch2\",\"BldPitch3\", \"GenPwr\", \"GenTq\"])\n",
    "dfK21 = pd.read_excel(fileK21, usecols=[0,1,2,3,4,5,6, 86, 87], names = [\"Time\",\"Wind1VelX\",\"Wind1VelY\",\"Wind1VelZ\",\"BldPitch1\",\"BldPitch2\",\"BldPitch3\", \"GenPwr\", \"GenTq\"])"
   ]
  },
  {
   "cell_type": "code",
   "execution_count": null,
   "id": "b6b693d2",
   "metadata": {},
   "outputs": [],
   "source": [
    "dfJ1.head()"
   ]
  },
  {
   "cell_type": "code",
   "execution_count": null,
   "id": "7272dea7",
   "metadata": {},
   "outputs": [],
   "source": [
    "dfJ2.head()"
   ]
  },
  {
   "cell_type": "code",
   "execution_count": null,
   "id": "6312f8be",
   "metadata": {},
   "outputs": [],
   "source": [
    "dfN0.head()"
   ]
  },
  {
   "cell_type": "code",
   "execution_count": null,
   "id": "c72198fb",
   "metadata": {},
   "outputs": [],
   "source": [
    "dfN20.head()"
   ]
  },
  {
   "cell_type": "code",
   "execution_count": null,
   "id": "3c3ad239",
   "metadata": {},
   "outputs": [],
   "source": [
    "dfN40.head()"
   ]
  },
  {
   "cell_type": "code",
   "execution_count": null,
   "id": "cd143fee",
   "metadata": {},
   "outputs": [],
   "source": [
    "dfN60.head()"
   ]
  },
  {
   "cell_type": "code",
   "execution_count": null,
   "id": "e2c61d41",
   "metadata": {},
   "outputs": [],
   "source": [
    "dfN80.head()"
   ]
  },
  {
   "cell_type": "code",
   "execution_count": null,
   "id": "399312b8",
   "metadata": {},
   "outputs": [],
   "source": [
    "dfK3.head()"
   ]
  },
  {
   "cell_type": "code",
   "execution_count": null,
   "id": "9c5ecf0f",
   "metadata": {},
   "outputs": [],
   "source": [
    "dfK5.head()"
   ]
  },
  {
   "cell_type": "code",
   "execution_count": null,
   "id": "03e51073",
   "metadata": {},
   "outputs": [],
   "source": [
    "dfK8.head()"
   ]
  },
  {
   "cell_type": "code",
   "execution_count": null,
   "id": "fdf03568",
   "metadata": {},
   "outputs": [],
   "source": [
    "dfK10.head()"
   ]
  },
  {
   "cell_type": "code",
   "execution_count": null,
   "id": "57445493",
   "metadata": {},
   "outputs": [],
   "source": [
    "dfK114.head()"
   ]
  },
  {
   "cell_type": "code",
   "execution_count": null,
   "id": "7b2b8974",
   "metadata": {},
   "outputs": [],
   "source": [
    "dfK17.head()"
   ]
  },
  {
   "cell_type": "code",
   "execution_count": null,
   "id": "940ff8ee",
   "metadata": {},
   "outputs": [],
   "source": [
    "dfK20.head()"
   ]
  },
  {
   "cell_type": "code",
   "execution_count": null,
   "id": "10d20979",
   "metadata": {},
   "outputs": [],
   "source": [
    "dfK21.head()"
   ]
  }
 ],
 "metadata": {
  "kernelspec": {
   "display_name": "Python 3",
   "language": "python",
   "name": "python3"
  },
  "language_info": {
   "codemirror_mode": {
    "name": "ipython",
    "version": 3
   },
   "file_extension": ".py",
   "mimetype": "text/x-python",
   "name": "python",
   "nbconvert_exporter": "python",
   "pygments_lexer": "ipython3",
   "version": "3.8.8"
  }
 },
 "nbformat": 4,
 "nbformat_minor": 5
}
